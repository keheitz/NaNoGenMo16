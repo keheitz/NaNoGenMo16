{
 "metadata": {
  "name": "",
  "signature": "sha256:80f87b31b63bd57c526f9519d4fb0e373cc88b1bde554721b06d4f4fabbde422"
 },
 "nbformat": 3,
 "nbformat_minor": 0,
 "worksheets": [
  {
   "cells": [
    {
     "cell_type": "heading",
     "level": 2,
     "metadata": {},
     "source": [
      "Text Collection"
     ]
    },
    {
     "cell_type": "heading",
     "level": 3,
     "metadata": {},
     "source": [
      "Prerequisites"
     ]
    },
    {
     "cell_type": "code",
     "collapsed": false,
     "input": [
      "#format for user agent: <platform>:<app ID>:<version string> (by /u/<reddit username>)\n",
      "my_user_agent = \"my user agent\"\n",
      "#OAuth2 instructions for obtaining client id and secret available here: https://github.com/reddit/reddit/wiki/OAuth2\n",
      "my_client_id = \"my client ID\"\n",
      "my_client_secret = \"my client secret\""
     ],
     "language": "python",
     "metadata": {},
     "outputs": []
    },
    {
     "cell_type": "heading",
     "level": 3,
     "metadata": {},
     "source": [
      "Get Reddit Instance"
     ]
    },
    {
     "cell_type": "code",
     "collapsed": false,
     "input": [
      "import praw\n",
      "\n",
      "#todo - delete before pushing\n",
      "my_user_agent = \"Python:NaNoGenMo16:1.0 (by /u/MissMushkila)\"\n",
      "my_client_id = \"W5_b0b-0uk4OpA\"\n",
      "my_client_secret = \"R9YUtfYe2PsN8okcdM07ozdHlnk\"\n",
      "\n",
      "#read-only instance\n",
      "reddit = praw.Reddit(user_agent=my_user_agent,\n",
      "                     client_id=my_client_id,\n",
      "                     client_secret=my_client_secret)"
     ],
     "language": "python",
     "metadata": {},
     "outputs": [],
     "prompt_number": 1
    },
    {
     "cell_type": "heading",
     "level": 3,
     "metadata": {},
     "source": [
      "Collect text from dreams subreddit"
     ]
    },
    {
     "cell_type": "code",
     "collapsed": false,
     "input": [
      "def get_hot_posts(subreddit, num):\n",
      "    text = \"\"\n",
      "    for submission in reddit.subreddit(subreddit).hot(limit=num):\n",
      "        text += submission.selftext\n",
      "    return text"
     ],
     "language": "python",
     "metadata": {},
     "outputs": [],
     "prompt_number": 1
    },
    {
     "cell_type": "code",
     "collapsed": false,
     "input": [
      "def get_random_post(subreddit):\n",
      "    submission = reddit.subreddit(subreddit).random()\n",
      "    return submission.selftext"
     ],
     "language": "python",
     "metadata": {},
     "outputs": [],
     "prompt_number": 2
    },
    {
     "cell_type": "code",
     "collapsed": false,
     "input": [
      "def write_posts_to_file(subreddit, quantity, filename):\n",
      "    for x in range(0,quantity):\n",
      "        text = get_random_post(subreddit).encode('utf-8')\n",
      "        with open(filename,'a') as f: # 'a' parameter indicates we want to append rather than overwrite the file\n",
      "            f.write(text)"
     ],
     "language": "python",
     "metadata": {},
     "outputs": [],
     "prompt_number": 3
    },
    {
     "cell_type": "code",
     "collapsed": false,
     "input": [
      "write_posts_to_file('dreams', 5000, \"dreamtext\")"
     ],
     "language": "python",
     "metadata": {},
     "outputs": [],
     "prompt_number": 113
    },
    {
     "cell_type": "heading",
     "level": 2,
     "metadata": {},
     "source": [
      "Text parsing/cleanup"
     ]
    },
    {
     "cell_type": "code",
     "collapsed": false,
     "input": [
      "#NLTK is a leading platform for building Python programs to work with human language data.\n",
      "import nltk"
     ],
     "language": "python",
     "metadata": {},
     "outputs": [],
     "prompt_number": 4
    },
    {
     "cell_type": "code",
     "collapsed": false,
     "input": [
      "#tokenize text into sentences useing nltk\n",
      "nltk.download('punkt')\n",
      "sent_detector = nltk.data.load('tokenizers/punkt/english.pickle')"
     ],
     "language": "python",
     "metadata": {},
     "outputs": [
      {
       "output_type": "stream",
       "stream": "stdout",
       "text": [
        "[nltk_data] Downloading package punkt to\n",
        "[nltk_data]     C:\\Users\\Kelly\\AppData\\Roaming\\nltk_data...\n",
        "[nltk_data]   Package punkt is already up-to-date!\n"
       ]
      }
     ],
     "prompt_number": 5
    },
    {
     "cell_type": "code",
     "collapsed": false,
     "input": [
      "#try to remove meta-dream sentences, e.g. \"in my dream I was...\" \"before I woke up\"\n",
      "substring_list = ['dream', 'dreams', 'wake', 'woke', 'sleep', 'sleeping', 'nightmare']"
     ],
     "language": "python",
     "metadata": {},
     "outputs": [],
     "prompt_number": 6
    },
    {
     "cell_type": "code",
     "collapsed": false,
     "input": [
      "def strip_dream_sent(text):\n",
      "    output = \"\"\n",
      "    for sent in sent_detector.tokenize(text):\n",
      "        if any(substring in sent for substring in substring_list):\n",
      "            continue;\n",
      "        else:\n",
      "            output += \" \"\n",
      "            output += sent\n",
      "    return output"
     ],
     "language": "python",
     "metadata": {},
     "outputs": [],
     "prompt_number": 24
    },
    {
     "cell_type": "heading",
     "level": 2,
     "metadata": {},
     "source": [
      "Generate Novel"
     ]
    },
    {
     "cell_type": "code",
     "collapsed": false,
     "input": [
      "import markovify\n",
      "import random\n",
      "import datetime"
     ],
     "language": "python",
     "metadata": {},
     "outputs": [],
     "prompt_number": 8
    },
    {
     "cell_type": "code",
     "collapsed": false,
     "input": [
      "def get_output_text(filename):\n",
      "    with open(filename) as f:\n",
      "        text = f.read()\n",
      "    return text"
     ],
     "language": "python",
     "metadata": {},
     "outputs": [],
     "prompt_number": 9
    },
    {
     "cell_type": "code",
     "collapsed": false,
     "input": [
      "output_text = get_output_text(\"dreamtext\")"
     ],
     "language": "python",
     "metadata": {},
     "outputs": [],
     "prompt_number": 10
    },
    {
     "cell_type": "code",
     "collapsed": false,
     "input": [
      "def generate_paragraph(clean_text):\n",
      "    # Build the model.\n",
      "    text_model = markovify.Text(clean_text)\n",
      "    num_sent = random.randint(5,25)\n",
      "\n",
      "    paragraph = \"\"\n",
      "\n",
      "    # Print varying number of  randomly-generated sentences\n",
      "    for i in range(num_sent):\n",
      "        paragraph += \" \" \n",
      "        paragraph += text_model.make_sentence()\n",
      "\n",
      "    return paragraph"
     ],
     "language": "python",
     "metadata": {},
     "outputs": [],
     "prompt_number": 11
    },
    {
     "cell_type": "code",
     "collapsed": false,
     "input": [
      "#see output for randomly generated paragraph (testing)\n",
      "print strip_dream_sent(generate_paragraph(output_text).decode('utf-8'))"
     ],
     "language": "python",
     "metadata": {},
     "outputs": [
      {
       "output_type": "stream",
       "stream": "stdout",
       "text": [
        "  A car with my friends just to stay with us. that night she asked me where I cheated on her with a skinless bleeding human looking at myself with a kid I knew from highschool. I was the reflection of a swamp. We were talking about, but i can feel the fear behind me. It starts to bubble and burn like a ride or attraction. But I keep having a kid I knew exactly where to go. I am not in a business suit, a casually dressed man, a young man with dark hair comes out of the white foam; they seem almost crisp. And then next in line was my legs felt like the tiny mummies of cats pharaohs were burried with. We're a bit rough with him and there's this huge robot/alien thing being built. I saw other people end up seeing some kind of afraid of this strange doorway with no remembrance of any kind. just black. but i should know it wasn't him. He never locked his eyes grows greater and greater. They looked human but they were also kind of unsettlingSo this is in the same Poison and are using directions to get fully immersed in a simple skirt and buttoned blouse like I was talking my teacher through a tv. I was aware of myself despite the shock.First time poster here so please excuse any mistakes, but basically I was seeing, so it can get home. Which is when I noticed that the bleeding eyes can be is just this party going on, I was looking around to other rooms and structures beyond this place. Except in this conscious reality. Not always but sometimes when this happens I end up falling down and I just closed.\n"
       ]
      }
     ],
     "prompt_number": 25
    },
    {
     "cell_type": "code",
     "collapsed": false,
     "input": [
      "#get random date in past\n",
      "def get_start_date():\n",
      "    daysintopast = random.randint(1000,15000)\n",
      "    startdate = datetime.datetime.now() - datetime.timedelta(days=daysintopast)\n",
      "    return startdate"
     ],
     "language": "python",
     "metadata": {},
     "outputs": [],
     "prompt_number": 17
    },
    {
     "cell_type": "code",
     "collapsed": false,
     "input": [
      "#we want the diary to progress not every day, but have an entry every few days - method to get next diary entry date\n",
      "def get_next_date(currentdate):\n",
      "    daysadd = random.randint(1,5)\n",
      "    diarydate = currentdate + datetime.timedelta(days=daysadd)\n",
      "    return diarydate"
     ],
     "language": "python",
     "metadata": {},
     "outputs": [],
     "prompt_number": 18
    },
    {
     "cell_type": "code",
     "collapsed": false,
     "input": [
      "#calls date and text generation methods to write to a file named according to the parameter novel_name\n",
      "#because we pulled the data from reddit posts, need to decode from utf-8 to ascii for use with nltk (tokenizing and strippping sentences)\n",
      "#re-encode to utf-8 before writing to the file\n",
      "#novel length indicates number of diary entries which average ~250 words\n",
      "def write_novel(novel_name, novel_length):\n",
      "    startdate = get_start_date()\n",
      "    entry = strip_dream_sent(generate_paragraph(output_text).decode('utf-8'))\n",
      "    with open(novel_name,'a') as f: \n",
      "            f.write(startdate.strftime(\"%B %d, %Y\") + '\\n')\n",
      "            f.write(entry.encode('utf-8') + '\\n\\n')\n",
      "    for x in range(novel_length):\n",
      "        startdate = get_next_date(startdate)\n",
      "        entry = strip_dream_sent(generate_paragraph(output_text).decode('utf-8'))\n",
      "        with open(novel_name,'a') as f: \n",
      "            f.write(startdate.strftime(\"%B %d, %Y\") + '\\n')\n",
      "            f.write(entry.encode('utf-8') + '\\n\\n')"
     ],
     "language": "python",
     "metadata": {},
     "outputs": [],
     "prompt_number": 21
    },
    {
     "cell_type": "code",
     "collapsed": false,
     "input": [
      "write_novel(\"horror-diary\", 365)"
     ],
     "language": "python",
     "metadata": {},
     "outputs": [],
     "prompt_number": 26
    },
    {
     "cell_type": "code",
     "collapsed": false,
     "input": [],
     "language": "python",
     "metadata": {},
     "outputs": []
    }
   ],
   "metadata": {}
  }
 ]
}